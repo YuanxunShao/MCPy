{
 "cells": [
  {
   "cell_type": "code",
   "execution_count": 23,
   "metadata": {},
   "outputs": [],
   "source": [
    "import sys\n",
    "sys.path.append(\"../\")\n",
    "from MCPy.MCPy import *\n",
    "import math\n",
    "import numpy as np\n",
    "\n",
    "c1 = MCPy(np.array([1, 5]), np.array([3, 3]), np.matrix([[1, 1], [0, 0]]))\n",
    "c2 = MCPy(np.array([1, 2]), np.array([1.5, 1.5]), np.matrix([[0, 0], [1, 1]]))\n",
    "    "
   ]
  },
  {
   "cell_type": "code",
   "execution_count": 24,
   "metadata": {},
   "outputs": [
    {
     "name": "stdout",
     "output_type": "stream",
     "text": [
      "[  6.25000000e-02   1.26549924e+02]\n",
      "[  1.08922065  63.65274129]\n",
      "[[  0.65169426  31.        ]\n",
      " [  1.34231176   0.64696198]]\n"
     ]
    }
   ],
   "source": [
    "c3 = sqrt(c1)*log(c2)+c1**3/c2**4\n",
    "\n",
    "print(c3.IA)\n",
    "print(c3.MC)\n",
    "print(c3.SG)"
   ]
  },
  {
   "cell_type": "code",
   "execution_count": 25,
   "metadata": {},
   "outputs": [
    {
     "name": "stdout",
     "output_type": "stream",
     "text": [
      "<MCPy.MCPy.MCPy object at 0x2b428c26b668>\n",
      "[ 1.0000454   1.14492059]\n",
      "[ 1.00248183  1.072483  ]\n",
      "[[-0.00496981 -0.0362188 ]\n",
      " [ 0.          0.        ]]\n"
     ]
    }
   ],
   "source": [
    "c=exp(c1*(-2))\n",
    "c4 =exp(c)\n",
    "print(c)\n",
    "print(c4.IA)\n",
    "print(c4.MC)\n",
    "print(c4.SG)"
   ]
  }
 ],
 "metadata": {
  "celltoolbar": "Tags",
  "kernelspec": {
   "display_name": "Python 3",
   "language": "python",
   "name": "python3"
  },
  "language_info": {
   "codemirror_mode": {
    "name": "ipython",
    "version": 3
   },
   "file_extension": ".py",
   "mimetype": "text/x-python",
   "name": "python",
   "nbconvert_exporter": "python",
   "pygments_lexer": "ipython3",
   "version": "3.6.0"
  }
 },
 "nbformat": 4,
 "nbformat_minor": 2
}
