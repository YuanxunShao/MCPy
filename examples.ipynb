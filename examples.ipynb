{
 "cells": [
  {
   "cell_type": "code",
   "execution_count": 11,
   "metadata": {},
   "outputs": [],
   "source": [
    "from MCPy.MCPy import *\n",
    "import math\n",
    "import numpy as np\n",
    "\n",
    "x1 = MCPy(np.array([1, 5]), np.array([3, 3]), np.matrix([[1, 1], [0, 0]]))\n",
    "x2 = MCPy(np.array([-2, -1]), np.array([-1.5, -1.5]), np.matrix([[0, 0], [1, 1]]))\n",
    "    "
   ]
  },
  {
   "cell_type": "code",
   "execution_count": 15,
   "metadata": {},
   "outputs": [
    {
     "name": "stdout",
     "output_type": "stream",
     "text": [
      "<MCPy.MCPy.MCPy object at 0x10f76d4a8>\n",
      "[  2.71828183  36.94528049]\n",
      "[  9.41101016  20.40376105]\n",
      "[[ 2.71828183  7.3890561 ]\n",
      " [-3.67331984 -4.48168907]]\n"
     ]
    }
   ],
   "source": [
    "f1 = x1/exp(x2)\n",
    "\n",
    "print(f1)\n",
    "print(f1.IA)\n",
    "print(f1.MC)\n",
    "print(f1.SG)"
   ]
  },
  {
   "cell_type": "code",
   "execution_count": 16,
   "metadata": {},
   "outputs": [
    {
     "name": "stdout",
     "output_type": "stream",
     "text": [
      "<MCPy.MCPy.MCPy object at 0x10f76d2e8>\n",
      "[-250.          -0.4472136]\n",
      "[-125.2236068    -5.27309302]\n",
      "[[ 6.82190736 -3.03427012]\n",
      " [ 0.4472136   0.4472136 ]]\n"
     ]
    }
   ],
   "source": [
    "f2 = x1**(3)/sqrt(x1)*x2\n",
    "\n",
    "print(f2)\n",
    "print(f2.IA)\n",
    "print(f2.MC)\n",
    "print(f2.SG)"
   ]
  }
 ],
 "metadata": {
  "celltoolbar": "Tags",
  "kernelspec": {
   "display_name": "Python 3",
   "language": "python",
   "name": "python3"
  },
  "language_info": {
   "codemirror_mode": {
    "name": "ipython",
    "version": 3
   },
   "file_extension": ".py",
   "mimetype": "text/x-python",
   "name": "python",
   "nbconvert_exporter": "python",
   "pygments_lexer": "ipython3",
   "version": "3.6.1"
  }
 },
 "nbformat": 4,
 "nbformat_minor": 2
}
