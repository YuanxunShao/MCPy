{
 "cells": [
  {
   "cell_type": "code",
   "execution_count": 7,
   "metadata": {
    "collapsed": true
   },
   "outputs": [],
   "source": [
    "# import the MCPy python class\n",
    "from MCPy.MCPy import *\n",
    "import math\n",
    "import numpy as np"
   ]
  },
  {
   "cell_type": "code",
   "execution_count": 8,
   "metadata": {
    "collapsed": true
   },
   "outputs": [],
   "source": [
    "# initialize all variables\n",
    "# x_n = MCPy(IA_n, MC_n, SG_n)\n",
    "\n",
    "x1 = MCPy(np.array([1, 5]), np.array([3, 3]), np.matrix([[1, 1], [0, 0]]))\n",
    "x2 = MCPy(np.array([-2, -1]), np.array([-1.5, -1.5]), np.matrix([[0, 0], [1, 1]]))"
   ]
  },
  {
   "cell_type": "code",
   "execution_count": 12,
   "metadata": {
    "collapsed": false
   },
   "outputs": [
    {
     "name": "stdout",
     "output_type": "stream",
     "text": [
      "[  2.71828183  36.94528049]\n",
      "[  9.41101016  20.40376105]\n",
      "[[ 2.71828183  7.3890561 ]\n",
      " [-3.67331984 -4.48168907]]\n",
      "The convex underestimator is:  9.41101015658\n",
      "The concave overestimator is:  20.4037610549\n"
     ]
    }
   ],
   "source": [
    "# do the calculation\n",
    "# f.MC[0] is the vales of convex underestimator\n",
    "# f.MC[1] is the vales of concave overestimator\n",
    "\n",
    "f1 = x1/exp(x2)\n",
    "print(f1.IA)\n",
    "print(f1.MC)\n",
    "print(f1.SG)\n",
    "print(\"The convex underestimator is: \", f1.MC[0])\n",
    "print(\"The concave overestimator is: \", f1.MC[1])"
   ]
  },
  {
   "cell_type": "code",
   "execution_count": 11,
   "metadata": {
    "collapsed": false
   },
   "outputs": [
    {
     "name": "stdout",
     "output_type": "stream",
     "text": [
      "The convex underestimator is:  -125.223606798\n",
      "The concave overestimator is:  -5.27309302194\n"
     ]
    }
   ],
   "source": [
    "# another example\n",
    "f2 = x1**(3)/sqrt(x1)*x2\n",
    "\n",
    "print(\"The convex underestimator is: \", f2.MC[0])\n",
    "print(\"The concave overestimator is: \", f2.MC[1])"
   ]
  },
  {
   "cell_type": "code",
   "execution_count": null,
   "metadata": {
    "collapsed": true
   },
   "outputs": [],
   "source": []
  }
 ],
 "metadata": {
  "celltoolbar": "Tags",
  "kernelspec": {
   "display_name": "Python 3",
   "language": "python",
   "name": "python3"
  },
  "language_info": {
   "codemirror_mode": {
    "name": "ipython",
    "version": 3
   },
   "file_extension": ".py",
   "mimetype": "text/x-python",
   "name": "python",
   "nbconvert_exporter": "python",
   "pygments_lexer": "ipython3",
   "version": "3.6.0"
  }
 },
 "nbformat": 4,
 "nbformat_minor": 2
}
